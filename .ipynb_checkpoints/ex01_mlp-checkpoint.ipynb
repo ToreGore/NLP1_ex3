{
 "cells": [
  {
   "cell_type": "code",
   "execution_count": 106,
   "metadata": {
    "id": "8nDhHrpTG1Tf"
   },
   "outputs": [],
   "source": [
    "import csv\n",
    "import functools as ft\n",
    "import math as m\n",
    "import re\n",
    "\n",
    "import matplotlib.pyplot as plt\n",
    "import matplotlib as mp\n",
    "import numpy as np\n",
    "import pandas as pd\n",
    "from sklearn.model_selection import train_test_split"
   ]
  },
  {
   "cell_type": "markdown",
   "metadata": {
    "id": "c4T7qBSKG1T0"
   },
   "source": [
    "### Download the training and test data set"
   ]
  },
  {
   "cell_type": "code",
   "execution_count": 107,
   "metadata": {
    "id": "OOTAWcEbG1T2"
   },
   "outputs": [],
   "source": [
    "url_train_dev = 'https://docs.google.com/spreadsheets/d/e/2PACX-1vTOZ2rC82rhNsJduoyKYTsVeH6ukd7Bpxvxn_afOibn3R-eadZGXu82eCU9IRpl4CK_gefEGsYrA_oM/pub?gid=1863430984&single=true&output=tsv'\n",
    "url_test = 'https://docs.google.com/spreadsheets/d/e/2PACX-1vT-KNR9nuYatLkSbzSRgpz6Ku1n4TN4w6kKmFLkA6QJHTfQzmX0puBsLF7PAAQJQAxUpgruDd_RRgK7/pub?gid=417546901&single=true&output=tsv'"
   ]
  },
  {
   "cell_type": "code",
   "execution_count": 108,
   "metadata": {
    "id": "k5lvBa_OG1UI"
   },
   "outputs": [],
   "source": [
    "from io import StringIO\n",
    "import requests\n",
    "\n",
    "def load_dataset(url):\n",
    "    r = requests.get(url)\n",
    "    data = r.content.decode('utf8')\n",
    "    df = pd.read_csv(StringIO(data), sep='\\t')\n",
    "    df.columns = ['tweet', 'label']\n",
    "    return df"
   ]
  },
  {
   "cell_type": "code",
   "execution_count": 109,
   "metadata": {
    "id": "T1D4zy_RG1UW"
   },
   "outputs": [],
   "source": [
    "df_train_dev = load_dataset(url_train_dev)\n",
    "df_test = load_dataset(url_test)"
   ]
  },
  {
   "cell_type": "code",
   "execution_count": 110,
   "metadata": {
    "colab": {
     "base_uri": "https://localhost:8080/",
     "height": 35
    },
    "id": "IZ0rNrm-Yb5N",
    "outputId": "0adf6865-f2b6-4df1-94f2-ec212b41e19d"
   },
   "outputs": [
    {
     "data": {
      "application/vnd.google.colaboratory.intrinsic+json": {
       "type": "string"
      },
      "text/plain": [
       "'私の名前は田中です'"
      ]
     },
     "execution_count": 110,
     "metadata": {
      "tags": []
     },
     "output_type": "execute_result"
    }
   ],
   "source": [
    "emoji_pattern = re.compile(\"[\"\n",
    "        u\"\\U0001F600-\\U0001F64F\"  # emoticons\n",
    "                       u\"\\U0001F300-\\U0001F5FF\"  # symbols & pictographs\n",
    "                       u\"\\U0001F680-\\U0001F6FF\"  # transport & map symbols\n",
    "                       u\"\\U0001F1E0-\\U0001F1FF\"  # flags (iOS)\n",
    "        \"]+\", flags=re.UNICODE)\n",
    "\n",
    "emoji_pattern.sub(r'', \"私の名前は田中です\")"
   ]
  },
  {
   "cell_type": "markdown",
   "metadata": {
    "id": "BrK6DlvcG1Uh"
   },
   "source": [
    "### 1. Exploratory Data Analysis (EDA)\n",
    "\n",
    "In the next section, I perform a brief exploratory data analysis"
   ]
  },
  {
   "cell_type": "code",
   "execution_count": 111,
   "metadata": {
    "colab": {
     "base_uri": "https://localhost:8080/",
     "height": 52
    },
    "id": "SK5mKkc9G1Uj",
    "outputId": "ba7a5f84-95ce-4f68-c755-af0dad9b1d10"
   },
   "outputs": [
    {
     "name": "stdout",
     "output_type": "stream",
     "text": [
      "Training set shape  (52675, 2)\n",
      "Test set shape  (13279, 2)\n"
     ]
    }
   ],
   "source": [
    "print(\"Training set shape \", df_train_dev.shape)\n",
    "print(\"Test set shape \", df_test.shape)"
   ]
  },
  {
   "cell_type": "code",
   "execution_count": 112,
   "metadata": {
    "colab": {
     "base_uri": "https://localhost:8080/",
     "height": 173
    },
    "id": "9FewMexDG1Ux",
    "outputId": "1a0e5851-f2cc-45d2-9a3c-5191a15f5e51"
   },
   "outputs": [
    {
     "name": "stdout",
     "output_type": "stream",
     "text": [
      "<class 'pandas.core.frame.DataFrame'>\n",
      "RangeIndex: 52675 entries, 0 to 52674\n",
      "Data columns (total 2 columns):\n",
      " #   Column  Non-Null Count  Dtype \n",
      "---  ------  --------------  ----- \n",
      " 0   tweet   52675 non-null  object\n",
      " 1   label   52675 non-null  object\n",
      "dtypes: object(2)\n",
      "memory usage: 823.2+ KB\n"
     ]
    }
   ],
   "source": [
    "df_train_dev.info()"
   ]
  },
  {
   "cell_type": "code",
   "execution_count": 113,
   "metadata": {
    "colab": {
     "base_uri": "https://localhost:8080/",
     "height": 206
    },
    "id": "HgvPTG9RG1U-",
    "outputId": "4f76926c-5716-4cfc-f8e2-5a33c6bdc958"
   },
   "outputs": [
    {
     "data": {
      "text/html": [
       "<div>\n",
       "<style scoped>\n",
       "    .dataframe tbody tr th:only-of-type {\n",
       "        vertical-align: middle;\n",
       "    }\n",
       "\n",
       "    .dataframe tbody tr th {\n",
       "        vertical-align: top;\n",
       "    }\n",
       "\n",
       "    .dataframe thead th {\n",
       "        text-align: right;\n",
       "    }\n",
       "</style>\n",
       "<table border=\"1\" class=\"dataframe\">\n",
       "  <thead>\n",
       "    <tr style=\"text-align: right;\">\n",
       "      <th></th>\n",
       "      <th>tweet</th>\n",
       "      <th>label</th>\n",
       "    </tr>\n",
       "  </thead>\n",
       "  <tbody>\n",
       "    <tr>\n",
       "      <th>0</th>\n",
       "      <td>يا من أناديها ويخنقني البكاء  ويكاد صمت الدمع ...</td>\n",
       "      <td>ar</td>\n",
       "    </tr>\n",
       "    <tr>\n",
       "      <th>1</th>\n",
       "      <td>فيه فرق بين اهل غزة اللى مطحونين من ناحيتين وب...</td>\n",
       "      <td>ar</td>\n",
       "    </tr>\n",
       "    <tr>\n",
       "      <th>2</th>\n",
       "      <td>ﻋﻦ ﺍﻟﻠﺤﻈﺔ اﻟﺤﻠﻮﺓﺓ ﺍﻟﻠﻲ ﺑﺘﻐﻤﺾ ﻓﻴﻬﺎ ﻋﻴﻨﻴﻚ ﺑﺘﻔﻜﺮ ...</td>\n",
       "      <td>ar</td>\n",
       "    </tr>\n",
       "    <tr>\n",
       "      <th>3</th>\n",
       "      <td>يا ابو سلو عرفتني</td>\n",
       "      <td>ar</td>\n",
       "    </tr>\n",
       "    <tr>\n",
       "      <th>4</th>\n",
       "      <td>ب50 ريال أكفل معتمر في رمضان ، ولك بإذن الله م...</td>\n",
       "      <td>ar</td>\n",
       "    </tr>\n",
       "  </tbody>\n",
       "</table>\n",
       "</div>"
      ],
      "text/plain": [
       "                                               tweet label\n",
       "0  يا من أناديها ويخنقني البكاء  ويكاد صمت الدمع ...    ar\n",
       "1  فيه فرق بين اهل غزة اللى مطحونين من ناحيتين وب...    ar\n",
       "2  ﻋﻦ ﺍﻟﻠﺤﻈﺔ اﻟﺤﻠﻮﺓﺓ ﺍﻟﻠﻲ ﺑﺘﻐﻤﺾ ﻓﻴﻬﺎ ﻋﻴﻨﻴﻚ ﺑﺘﻔﻜﺮ ...    ar\n",
       "3                                  يا ابو سلو عرفتني    ar\n",
       "4  ب50 ريال أكفل معتمر في رمضان ، ولك بإذن الله م...    ar"
      ]
     },
     "execution_count": 113,
     "metadata": {
      "tags": []
     },
     "output_type": "execute_result"
    }
   ],
   "source": [
    "df_train_dev.head()"
   ]
  },
  {
   "cell_type": "code",
   "execution_count": 114,
   "metadata": {
    "colab": {
     "base_uri": "https://localhost:8080/",
     "height": 156
    },
    "id": "kkaWQLz0G1VH",
    "outputId": "dd30e166-9102-4f4d-ce80-e49abda004c3"
   },
   "outputs": [
    {
     "data": {
      "text/plain": [
       "array(['ar', 'ar_LATN', 'az', 'bg', 'bn', 'bs', 'ca', 'cs', 'cy', 'da',\n",
       "       'de', 'dv', 'el', 'en', 'es', 'et', 'fa', 'fi', 'fr', 'gl', 'ha',\n",
       "       'he', 'hi', 'hi-Latn', 'hr', 'ht', 'hu', 'hy', 'id', 'is', 'it',\n",
       "       'ja', 'ja_LATN', 'jv', 'km', 'ko', 'ko_LATN', 'ms', 'ne', 'nl',\n",
       "       'no', 'pl', 'ps', 'ps_LATN', 'pt', 'ro', 'ru', 'si', 'sl', 'sq',\n",
       "       'sr', 'su', 'sv', 'sw', 'ta', 'ta_LATN', 'th', 'tl', 'tn', 'tr',\n",
       "       'uk', 'und', 'ur', 'ur_LATN', 'vi', 'wo', 'xh', 'zh-CN', 'zh-TW'],\n",
       "      dtype=object)"
      ]
     },
     "execution_count": 114,
     "metadata": {
      "tags": []
     },
     "output_type": "execute_result"
    }
   ],
   "source": [
    "df_train_dev.label.unique()"
   ]
  },
  {
   "cell_type": "code",
   "execution_count": 115,
   "metadata": {
    "id": "r6LiydvFYb7n"
   },
   "outputs": [],
   "source": [
    "df_train_dev[\"tweet\"] = df_train_dev.apply(lambda row : emoji_pattern.sub(r'', row[\"tweet\"]), axis=1)"
   ]
  },
  {
   "cell_type": "markdown",
   "metadata": {
    "id": "UpF8fotrG1VR"
   },
   "source": [
    "**Observation**:\n",
    " \n",
    "\n",
    "1.   The data set contains links which might add noise to the signal because many letters in the link are independent of the language (i.e. \"http://\"). Especially the fact that links add latin characters to tweets which are not written in latin characters could be an issue. Hence, I will test if removing hyperlinks improves the model accuracy \n",
    "2.   Numbers could also be excluded as they are not language specific\n",
    "\n",
    "\n",
    "\n"
   ]
  },
  {
   "cell_type": "markdown",
   "metadata": {
    "id": "iN9Ew8BqG1VT"
   },
   "source": [
    "##### 1.1 Number of Tweets per language"
   ]
  },
  {
   "cell_type": "code",
   "execution_count": 117,
   "metadata": {
    "colab": {
     "base_uri": "https://localhost:8080/",
     "height": 455
    },
    "id": "u9TQnu3rG1VV",
    "outputId": "3a0dbbf1-d509-44f9-a562-58c0391b8075"
   },
   "outputs": [
    {
     "data": {
      "text/html": [
       "<div>\n",
       "<style scoped>\n",
       "    .dataframe tbody tr th:only-of-type {\n",
       "        vertical-align: middle;\n",
       "    }\n",
       "\n",
       "    .dataframe tbody tr th {\n",
       "        vertical-align: top;\n",
       "    }\n",
       "\n",
       "    .dataframe thead th {\n",
       "        text-align: right;\n",
       "    }\n",
       "</style>\n",
       "<table border=\"1\" class=\"dataframe\">\n",
       "  <thead>\n",
       "    <tr style=\"text-align: right;\">\n",
       "      <th></th>\n",
       "      <th>tweet</th>\n",
       "    </tr>\n",
       "    <tr>\n",
       "      <th>label</th>\n",
       "      <th></th>\n",
       "    </tr>\n",
       "  </thead>\n",
       "  <tbody>\n",
       "    <tr>\n",
       "      <th>en</th>\n",
       "      <td>18508</td>\n",
       "    </tr>\n",
       "    <tr>\n",
       "      <th>ja</th>\n",
       "      <td>10421</td>\n",
       "    </tr>\n",
       "    <tr>\n",
       "      <th>es</th>\n",
       "      <td>5930</td>\n",
       "    </tr>\n",
       "    <tr>\n",
       "      <th>und</th>\n",
       "      <td>4537</td>\n",
       "    </tr>\n",
       "    <tr>\n",
       "      <th>id</th>\n",
       "      <td>3006</td>\n",
       "    </tr>\n",
       "    <tr>\n",
       "      <th>...</th>\n",
       "      <td>...</td>\n",
       "    </tr>\n",
       "    <tr>\n",
       "      <th>tn</th>\n",
       "      <td>1</td>\n",
       "    </tr>\n",
       "    <tr>\n",
       "      <th>dv</th>\n",
       "      <td>1</td>\n",
       "    </tr>\n",
       "    <tr>\n",
       "      <th>ta_LATN</th>\n",
       "      <td>1</td>\n",
       "    </tr>\n",
       "    <tr>\n",
       "      <th>si</th>\n",
       "      <td>1</td>\n",
       "    </tr>\n",
       "    <tr>\n",
       "      <th>ko_LATN</th>\n",
       "      <td>1</td>\n",
       "    </tr>\n",
       "  </tbody>\n",
       "</table>\n",
       "<p>69 rows × 1 columns</p>\n",
       "</div>"
      ],
      "text/plain": [
       "         tweet\n",
       "label         \n",
       "en       18508\n",
       "ja       10421\n",
       "es        5930\n",
       "und       4537\n",
       "id        3006\n",
       "...        ...\n",
       "tn           1\n",
       "dv           1\n",
       "ta_LATN      1\n",
       "si           1\n",
       "ko_LATN      1\n",
       "\n",
       "[69 rows x 1 columns]"
      ]
     },
     "execution_count": 117,
     "metadata": {
      "tags": []
     },
     "output_type": "execute_result"
    }
   ],
   "source": [
    "df_train_dev_grouped = df_train_dev.groupby(by = [\"label\"]).count().sort_values(by= [\"tweet\"], ascending = False)\n",
    "unique_labels = df_train_dev.label.unique()\n",
    "df_train_dev_grouped"
   ]
  },
  {
   "cell_type": "markdown",
   "metadata": {
    "id": "e8ZKTumdG1Ve"
   },
   "source": [
    "##### Distribution analysis\n",
    "1) Mean <br>\n",
    "2) Median <br>\n",
    "3) Variance <br>\n",
    "4) Std. Deviation"
   ]
  },
  {
   "cell_type": "code",
   "execution_count": 118,
   "metadata": {
    "id": "2geTNyG2G1Vf"
   },
   "outputs": [],
   "source": [
    "df_len = df_train_dev.label.count()\n",
    "df_train_freq = list(df_train_dev.label.value_counts().to_dict().items())"
   ]
  },
  {
   "cell_type": "code",
   "execution_count": 119,
   "metadata": {
    "id": "tfYJPyaKG1Vo"
   },
   "outputs": [],
   "source": [
    "mean = np.mean([x[1] for x in df_train_freq])\n",
    "median = np.median([x[1] for x in df_train_freq])\n",
    "variance = np.var([x[1] for x in df_train_freq])\n",
    "stdev = m.sqrt(variance)"
   ]
  },
  {
   "cell_type": "code",
   "execution_count": 120,
   "metadata": {
    "colab": {
     "base_uri": "https://localhost:8080/",
     "height": 86
    },
    "id": "Wbx8yqXcG1Vy",
    "outputId": "ac19613e-e4f2-4ae3-a8b9-03be245cf0a4",
    "scrolled": true
   },
   "outputs": [
    {
     "name": "stdout",
     "output_type": "stream",
     "text": [
      "Mean: 763.4057971014493\n",
      "Median: 11.0\n",
      "Variance: 7128528.849821464\n",
      "Stdev: 2669.9304953165847\n"
     ]
    }
   ],
   "source": [
    "print(\"Mean: {0}\\nMedian: {1}\".format(mean, median))\n",
    "print(\"Variance: {0}\\nStdev: {1}\".format(variance, stdev))"
   ]
  },
  {
   "cell_type": "markdown",
   "metadata": {
    "id": "wBa-2_ogG1V_"
   },
   "source": [
    "**Observation**:\n",
    "\n",
    "There are languanges with very many tweets and some languages with only one tweet. The small sample size for some languages will make it difficult for the model to identify them well."
   ]
  },
  {
   "cell_type": "markdown",
   "metadata": {
    "id": "8pJvp9aZG1WB"
   },
   "source": [
    "##### 1.3 Average and median tweet length by language"
   ]
  },
  {
   "cell_type": "code",
   "execution_count": 121,
   "metadata": {
    "id": "AvORNSZJG1WB"
   },
   "outputs": [],
   "source": [
    "def fun(x):\n",
    "    df = {}\n",
    "    df['mean_character_count'] = x['tweet'].str.len().mean()\n",
    "    df['mean_word_count'] = x['tweet'].str.split().str.len().mean()\n",
    "    return(pd.Series(df, index=['mean_character_count', 'mean_word_count']))"
   ]
  },
  {
   "cell_type": "code",
   "execution_count": 122,
   "metadata": {
    "colab": {
     "base_uri": "https://localhost:8080/",
     "height": 455
    },
    "id": "rnGvc5RgG1WJ",
    "outputId": "7c4507e7-c4fe-4f4f-b068-8ee58e84cd83"
   },
   "outputs": [
    {
     "data": {
      "text/html": [
       "<div>\n",
       "<style scoped>\n",
       "    .dataframe tbody tr th:only-of-type {\n",
       "        vertical-align: middle;\n",
       "    }\n",
       "\n",
       "    .dataframe tbody tr th {\n",
       "        vertical-align: top;\n",
       "    }\n",
       "\n",
       "    .dataframe thead th {\n",
       "        text-align: right;\n",
       "    }\n",
       "</style>\n",
       "<table border=\"1\" class=\"dataframe\">\n",
       "  <thead>\n",
       "    <tr style=\"text-align: right;\">\n",
       "      <th></th>\n",
       "      <th>mean_character_count</th>\n",
       "      <th>mean_word_count</th>\n",
       "    </tr>\n",
       "    <tr>\n",
       "      <th>label</th>\n",
       "      <th></th>\n",
       "      <th></th>\n",
       "    </tr>\n",
       "  </thead>\n",
       "  <tbody>\n",
       "    <tr>\n",
       "      <th>ar</th>\n",
       "      <td>83.00864</td>\n",
       "      <td>13.160982</td>\n",
       "    </tr>\n",
       "    <tr>\n",
       "      <th>ar_LATN</th>\n",
       "      <td>33.00000</td>\n",
       "      <td>5.583333</td>\n",
       "    </tr>\n",
       "    <tr>\n",
       "      <th>az</th>\n",
       "      <td>110.00000</td>\n",
       "      <td>10.000000</td>\n",
       "    </tr>\n",
       "    <tr>\n",
       "      <th>bg</th>\n",
       "      <td>74.00000</td>\n",
       "      <td>10.500000</td>\n",
       "    </tr>\n",
       "    <tr>\n",
       "      <th>bn</th>\n",
       "      <td>100.75000</td>\n",
       "      <td>13.875000</td>\n",
       "    </tr>\n",
       "    <tr>\n",
       "      <th>...</th>\n",
       "      <td>...</td>\n",
       "      <td>...</td>\n",
       "    </tr>\n",
       "    <tr>\n",
       "      <th>vi</th>\n",
       "      <td>97.68750</td>\n",
       "      <td>19.250000</td>\n",
       "    </tr>\n",
       "    <tr>\n",
       "      <th>wo</th>\n",
       "      <td>72.00000</td>\n",
       "      <td>13.000000</td>\n",
       "    </tr>\n",
       "    <tr>\n",
       "      <th>xh</th>\n",
       "      <td>138.00000</td>\n",
       "      <td>16.000000</td>\n",
       "    </tr>\n",
       "    <tr>\n",
       "      <th>zh-CN</th>\n",
       "      <td>50.96000</td>\n",
       "      <td>3.200000</td>\n",
       "    </tr>\n",
       "    <tr>\n",
       "      <th>zh-TW</th>\n",
       "      <td>59.80000</td>\n",
       "      <td>6.500000</td>\n",
       "    </tr>\n",
       "  </tbody>\n",
       "</table>\n",
       "<p>69 rows × 2 columns</p>\n",
       "</div>"
      ],
      "text/plain": [
       "         mean_character_count  mean_word_count\n",
       "label                                         \n",
       "ar                   83.00864        13.160982\n",
       "ar_LATN              33.00000         5.583333\n",
       "az                  110.00000        10.000000\n",
       "bg                   74.00000        10.500000\n",
       "bn                  100.75000        13.875000\n",
       "...                       ...              ...\n",
       "vi                   97.68750        19.250000\n",
       "wo                   72.00000        13.000000\n",
       "xh                  138.00000        16.000000\n",
       "zh-CN                50.96000         3.200000\n",
       "zh-TW                59.80000         6.500000\n",
       "\n",
       "[69 rows x 2 columns]"
      ]
     },
     "execution_count": 122,
     "metadata": {
      "tags": []
     },
     "output_type": "execute_result"
    }
   ],
   "source": [
    "df_train_dev_agg = df_train_dev.groupby(by=\"label\").apply(fun)\n",
    "df_train_dev_agg"
   ]
  },
  {
   "cell_type": "code",
   "execution_count": 123,
   "metadata": {
    "colab": {
     "base_uri": "https://localhost:8080/",
     "height": 156
    },
    "id": "q7f5vNiXG1WU",
    "outputId": "93b5eb80-e2c2-4a4e-e955-013e49a2fc4f"
   },
   "outputs": [
    {
     "data": {
      "text/plain": [
       "array(['ar', 'ar_LATN', 'az', 'bg', 'bn', 'bs', 'ca', 'cs', 'cy', 'da',\n",
       "       'de', 'dv', 'el', 'en', 'es', 'et', 'fa', 'fi', 'fr', 'gl', 'ha',\n",
       "       'he', 'hi', 'hi-Latn', 'hr', 'ht', 'hu', 'hy', 'id', 'is', 'it',\n",
       "       'ja', 'ja_LATN', 'jv', 'km', 'ko', 'ko_LATN', 'ms', 'ne', 'nl',\n",
       "       'no', 'pl', 'ps', 'ps_LATN', 'pt', 'ro', 'ru', 'si', 'sl', 'sq',\n",
       "       'sr', 'su', 'sv', 'sw', 'ta', 'ta_LATN', 'th', 'tl', 'tn', 'tr',\n",
       "       'uk', 'und', 'ur', 'ur_LATN', 'vi', 'wo', 'xh', 'zh-CN', 'zh-TW'],\n",
       "      dtype=object)"
      ]
     },
     "execution_count": 123,
     "metadata": {
      "tags": []
     },
     "output_type": "execute_result"
    }
   ],
   "source": [
    "df_train_dev_agg.index.values"
   ]
  },
  {
   "cell_type": "code",
   "execution_count": 124,
   "metadata": {
    "colab": {
     "base_uri": "https://localhost:8080/",
     "height": 638
    },
    "id": "47fraZKVG1WZ",
    "outputId": "ea750e7a-3240-47f8-d18e-ca4aa225798c"
   },
   "outputs": [
    {
     "data": {
      "text/plain": [
       "Text(0.5, 1.0, 'Avg character count and avg word per tweet per language')"
      ]
     },
     "execution_count": 124,
     "metadata": {
      "tags": []
     },
     "output_type": "execute_result"
    },
    {
     "data": {
      "image/png": "[encoded data removed]",
      "text/plain": [
       "<Figure size 1080x720 with 1 Axes>"
      ]
     },
     "metadata": {
      "needs_background": "light",
      "tags": []
     },
     "output_type": "display_data"
    }
   ],
   "source": [
    "mp.pyplot.figure(figsize=(15,10))\n",
    "mp.pyplot.scatter(x= df_train_dev_agg['mean_character_count'], y= df_train_dev_agg['mean_word_count'])\n",
    "\n",
    "for i in range(len(df_train_dev_agg['mean_word_count'])):\n",
    "    t = (df_train_dev_agg.iloc[i]['mean_character_count'], df_train_dev_agg.iloc[i]['mean_word_count'])\n",
    "    mp.pyplot.annotate(df_train_dev_agg.index.values[i], t, (t[0]-0.5, t[1]+0.5))\n",
    "\n",
    "mp.pyplot.xlabel(\"Average character count\")\n",
    "mp.pyplot.ylabel(\"Average word count\")\n",
    "mp.pyplot.title(\"Avg character count and avg word per tweet per language\")"
   ]
  },
  {
   "cell_type": "markdown",
   "metadata": {
    "id": "v2v5eCYeG1Wk"
   },
   "source": [
    "**Observation**:\n",
    "\n",
    "Each point in the plot above represents a language label. <br>\n",
    "The points are laid out in 2D based on the average number of words and average number of characters per tweet. <br>\n",
    "It looks like, that one can discriminate between languages based on these metrices. <br>\n",
    "Otherwise, all points/languages would clump together. <br>\n",
    "Hence, I will add the average number of character and the average number of words as new features to the data set."
   ]
  },
  {
   "cell_type": "markdown",
   "metadata": {
    "id": "FU0_ausSG1Wk"
   },
   "source": [
    "### 2. Data preparation for training"
   ]
  },
  {
   "cell_type": "markdown",
   "metadata": {
    "id": "i8fUxMFHG1Wm"
   },
   "source": [
    "#### Data cleaning\n",
    "It seems unlikely to learn anything from tweets with scarce language occurences, so it could be wise to reassign those tweets as \"und\" (undefined). <br>\n",
    "Since 10-fold cross validation is in use, all the languages with less than 10 tweets are labelled as \"und\". <br>"
   ]
  },
  {
   "cell_type": "code",
   "execution_count": 125,
   "metadata": {
    "id": "O8vTl4E2G1Wn"
   },
   "outputs": [],
   "source": [
    "# finding languages with too few tweets\n",
    "\n",
    "dropped_lang = df_train_dev_grouped[df_train_dev_grouped[\"tweet\"] < 10].index\n",
    "\n",
    "for i in range(len(df_train_dev)):\n",
    "    if df_train_dev.iloc[i][\"label\"] in dropped_lang:\n",
    "        df_train_dev.iloc[i][\"label\"] = \"und\""
   ]
  },
  {
   "cell_type": "code",
   "execution_count": 126,
   "metadata": {
    "id": "m2DSE-ryG1Wv"
   },
   "outputs": [],
   "source": [
    "X_train = df_train_dev['tweet']\n",
    "y_train = df_train_dev['label']\n",
    "X_test = df_test['tweet']\n",
    "y_test = df_test['label']"
   ]
  },
  {
   "cell_type": "code",
   "execution_count": 127,
   "metadata": {
    "id": "cCdIFlsfG1W2"
   },
   "outputs": [],
   "source": [
    "# change any y_test labels which are not in x_test to category \"<unknown>\"\n",
    "unknown_labels = np.setdiff1d(y_test, y_train)\n",
    "\n",
    "i = 0\n",
    "for l in y_test:\n",
    "    for ul in unknown_labels:\n",
    "        if l == ul:\n",
    "            y_test[i] = \"und\"\n",
    "    i += 1"
   ]
  },
  {
   "cell_type": "code",
   "execution_count": 128,
   "metadata": {
    "colab": {
     "base_uri": "https://localhost:8080/",
     "height": 34
    },
    "id": "NiQHbGJnG1W-",
    "outputId": "ea0d01ef-0c1e-480d-9fa5-e4e0e6707cb3"
   },
   "outputs": [
    {
     "data": {
      "text/plain": [
       "0"
      ]
     },
     "execution_count": 128,
     "metadata": {
      "tags": []
     },
     "output_type": "execute_result"
    }
   ],
   "source": [
    "len(np.setdiff1d(y_test, y_train))"
   ]
  },
  {
   "cell_type": "code",
   "execution_count": 129,
   "metadata": {
    "id": "NIqVnwgIYb_D"
   },
   "outputs": [],
   "source": [
    "cleaned_languages = [(x,list(y_train).count(x)) for x in set(list(y_train))]\n",
    "mean_1 = np.mean([x[1] for x in cleaned_languages])\n",
    "median_1 = np.median([x[1] for x in cleaned_languages])"
   ]
  },
  {
   "cell_type": "code",
   "execution_count": 130,
   "metadata": {
    "id": "YJpS4TxoYb_d"
   },
   "outputs": [],
   "source": [
    "variance_1 = np.var([x[1] for x in cleaned_languages])\n",
    "stdev_1 = np.std([x[1] for x in cleaned_languages])"
   ]
  },
  {
   "cell_type": "code",
   "execution_count": 131,
   "metadata": {
    "colab": {
     "base_uri": "https://localhost:8080/",
     "height": 86
    },
    "id": "9YrCOHImYb_m",
    "outputId": "fbbc1484-3b55-44ce-d0a0-80b19af1b48c"
   },
   "outputs": [
    {
     "name": "stdout",
     "output_type": "stream",
     "text": [
      "Mean: 1386.1842105263158\n",
      "Median: 41.0\n",
      "Variance: 12103044.202908589\n",
      "Stdev: 3478.942972069043\n"
     ]
    }
   ],
   "source": [
    "print(\"Mean: {0}\\nMedian: {1}\".format(mean_1, median_1))\n",
    "print(\"Variance: {0}\\nStdev: {1}\".format(variance_1, stdev_1))"
   ]
  },
  {
   "cell_type": "markdown",
   "metadata": {
    "id": "SYpiLC9oG1XH"
   },
   "source": [
    "### Vectorizing the data"
   ]
  },
  {
   "cell_type": "code",
   "execution_count": 132,
   "metadata": {
    "id": "FQDRDF_EG1XH"
   },
   "outputs": [],
   "source": [
    "from sklearn.feature_extraction.text import CountVectorizer\n",
    "from sklearn.preprocessing import LabelEncoder\n",
    "from sklearn.preprocessing import StandardScaler"
   ]
  },
  {
   "cell_type": "markdown",
   "metadata": {
    "id": "EV4neEWJG1XO"
   },
   "source": [
    "#### Bigrams creation"
   ]
  },
  {
   "cell_type": "code",
   "execution_count": 133,
   "metadata": {
    "id": "9Y9h2C_RG1XQ"
   },
   "outputs": [],
   "source": [
    "bigram_vectorizer = CountVectorizer(ngram_range=(1, 2),\n",
    "                             token_pattern = r\"(?u)\\b\\w+\\b\", \n",
    "                             analyzer='char')\n",
    "\n",
    "X_train_counts = bigram_vectorizer.fit_transform(X_train)\n",
    "X_test_counts = bigram_vectorizer.transform(X_test)"
   ]
  },
  {
   "cell_type": "markdown",
   "metadata": {
    "id": "2ztfxpDWG1XY"
   },
   "source": [
    "#### Standardize counts, using \"with_mean=False\" so I can apply to sparse matrix"
   ]
  },
  {
   "cell_type": "code",
   "execution_count": 134,
   "metadata": {
    "id": "wEkD1-a3G1Xa"
   },
   "outputs": [],
   "source": [
    "stdsc = StandardScaler(with_mean=False)\n",
    "X_train_std = stdsc.fit_transform(X_train_counts)\n",
    "X_test_std = stdsc.transform(X_test_counts)"
   ]
  },
  {
   "cell_type": "markdown",
   "metadata": {
    "id": "wl79mSUWG1Xf"
   },
   "source": [
    "#### Encode labels"
   ]
  },
  {
   "cell_type": "code",
   "execution_count": 135,
   "metadata": {
    "id": "xgia_NANG1Xh"
   },
   "outputs": [],
   "source": [
    "label_encoder = LabelEncoder()\n",
    "y_train_enc = label_encoder.fit_transform(y_train)\n",
    "y_test_enc = label_encoder.transform(y_test)"
   ]
  },
  {
   "cell_type": "markdown",
   "metadata": {
    "id": "uZonY9s2G1Xq"
   },
   "source": [
    "#### Train models\n",
    "Training MLP_Classifiers\n"
   ]
  },
  {
   "cell_type": "markdown",
   "metadata": {
    "id": "3dk_oOlGG1Xq"
   },
   "source": [
    "#### MLP_1\n",
    "Hidden layer size: 100\n",
    "Activation function: ReLu\n",
    "Solver: Adam\n",
    "\n",
    "#### MLP_2\n",
    "Hidden layer size: 100\n",
    "Activation function: Logistic\n",
    "Solver: SGD"
   ]
  },
  {
   "cell_type": "code",
   "execution_count": 137,
   "metadata": {
    "colab": {
     "base_uri": "https://localhost:8080/",
     "height": 660
    },
    "id": "QYipINnaG1Xr",
    "outputId": "d7de8d2f-e6e6-4871-e283-00f3ef08e8e8"
   },
   "outputs": [
    {
     "name": "stdout",
     "output_type": "stream",
     "text": [
      "Iteration 1, loss = 0.74966758\n",
      "Validation score: 0.882688\n",
      "Iteration 2, loss = 0.28857033\n",
      "Validation score: 0.882308\n",
      "Iteration 3, loss = 0.19422490\n",
      "Validation score: 0.887813\n",
      "Iteration 4, loss = 0.15522090\n",
      "Validation score: 0.883827\n",
      "Iteration 5, loss = 0.11877598\n",
      "Validation score: 0.882688\n",
      "Iteration 6, loss = 0.09341230\n",
      "Validation score: 0.882878\n",
      "Iteration 7, loss = 0.07578175\n",
      "Validation score: 0.882308\n",
      "Iteration 8, loss = 0.06700738\n",
      "Validation score: 0.880790\n",
      "Iteration 9, loss = 0.05550484\n",
      "Validation score: 0.882308\n",
      "Iteration 10, loss = 0.04619647\n",
      "Validation score: 0.879461\n",
      "Iteration 11, loss = 0.04075507\n",
      "Validation score: 0.880410\n",
      "Iteration 12, loss = 0.03508195\n",
      "Validation score: 0.880410\n",
      "Iteration 13, loss = 0.02960236\n",
      "Validation score: 0.878132\n",
      "Iteration 14, loss = 0.02600960\n",
      "Validation score: 0.878322\n",
      "Validation score did not improve more than tol=0.000100 for 10 consecutive epochs. Stopping.\n"
     ]
    },
    {
     "data": {
      "text/plain": [
       "MLPClassifier(activation='relu', alpha=0.0001, batch_size='auto', beta_1=0.9,\n",
       "              beta_2=0.999, early_stopping=True, epsilon=1e-08,\n",
       "              hidden_layer_sizes=(50,), learning_rate='constant',\n",
       "              learning_rate_init=0.001, max_fun=15000, max_iter=200,\n",
       "              momentum=0.9, n_iter_no_change=10, nesterovs_momentum=True,\n",
       "              power_t=0.5, random_state=None, shuffle=True, solver='adam',\n",
       "              tol=0.0001, validation_fraction=0.1, verbose=True,\n",
       "              warm_start=False)"
      ]
     },
     "execution_count": 137,
     "metadata": {
      "tags": []
     },
     "output_type": "execute_result"
    }
   ],
   "source": [
    "from sklearn.neural_network import MLPClassifier\n",
    "\n",
    "mlp_classifier = MLPClassifier(hidden_layer_sizes=(50,), verbose=True, early_stopping=True, activation=\"relu\")\n",
    "\n",
    "mlp_classifier.fit(X_train_std, y_train_enc)"
   ]
  },
  {
   "cell_type": "code",
   "execution_count": null,
   "metadata": {
    "colab": {
     "base_uri": "https://localhost:8080/",
     "height": 469
    },
    "id": "r6UIN6j1M56I",
    "outputId": "59b69148-0078-4429-81fe-a138d3c9f7ac"
   },
   "outputs": [
    {
     "name": "stdout",
     "output_type": "stream",
     "text": [
      "Iteration 1, loss = 1.56539931\n",
      "Validation score: 0.827828\n",
      "Iteration 2, loss = 0.66047531\n",
      "Validation score: 0.846052\n",
      "Iteration 3, loss = 0.50997855\n",
      "Validation score: 0.854784\n",
      "Iteration 4, loss = 0.42723055\n",
      "Validation score: 0.858770\n",
      "Iteration 5, loss = 0.37531291\n",
      "Validation score: 0.862566\n",
      "Iteration 6, loss = 0.33820140\n",
      "Validation score: 0.863516\n",
      "Iteration 7, loss = 0.31041582\n",
      "Validation score: 0.864844\n",
      "Iteration 8, loss = 0.28847958\n",
      "Validation score: 0.863516\n",
      "Iteration 9, loss = 0.27240186\n",
      "Validation score: 0.864275\n",
      "Iteration 10, loss = 0.25634369\n",
      "Validation score: 0.865983\n",
      "Iteration 11, loss = 0.24338747\n",
      "Validation score: 0.864844\n",
      "Iteration 12, loss = 0.23254709\n",
      "Validation score: 0.864085\n",
      "Iteration 13, loss = 0.22243827\n",
      "Validation score: 0.863136\n"
     ]
    }
   ],
   "source": [
    "mlp_classifier_sgd = MLPClassifier(hidden_layer_sizes=(50,), verbose=True, early_stopping=True, activation=\"relu\", solver=\"sgd\")\n",
    "\n",
    "mlp_classifier_sgd.fit(X_train_std, y_train_enc)"
   ]
  },
  {
   "cell_type": "code",
   "execution_count": null,
   "metadata": {
    "id": "9T0AFI5gG1Xz"
   },
   "outputs": [],
   "source": [
    "predictions_mlp = mlp_classifier.predict(X_test_std)\n",
    "predictions_mlp_sgd = mlp_classifier_sgd.predict(X_test_std)"
   ]
  },
  {
   "cell_type": "code",
   "execution_count": null,
   "metadata": {
    "id": "npb6jGs-G1X7"
   },
   "outputs": [],
   "source": [
    "import matplotlib.pyplot as plt\n",
    "plt.plot(mlp_classifier.__dict__[\"loss_curve_\"])"
   ]
  },
  {
   "cell_type": "code",
   "execution_count": null,
   "metadata": {
    "id": "o4Vt09xxNWcH"
   },
   "outputs": [],
   "source": [
    "plt.plot(mlp_classifier_sgd.__dict__[\"loss_curve_\"])"
   ]
  },
  {
   "cell_type": "code",
   "execution_count": null,
   "metadata": {
    "id": "QYzPUFlJG1YD"
   },
   "outputs": [],
   "source": [
    "from sklearn.metrics import confusion_matrix\n",
    "import seaborn as sn\n",
    "import matplotlib.pyplot as plt\n",
    "\n",
    "conf_m = confusion_matrix(y_test_enc, predictions_mlp)\n",
    "\n",
    "np.fill_diagonal(conf_m, 0)\n",
    "\n",
    "plt.figure(figsize = (10,7))\n",
    "sn.heatmap(conf_m, annot=False)"
   ]
  },
  {
   "cell_type": "code",
   "execution_count": null,
   "metadata": {
    "id": "I9Ck80iiNcBg"
   },
   "outputs": [],
   "source": [
    "conf_m_sgd = confusion_matrix(y_test_enc, predictions_mlp_sgd)\n",
    "\n",
    "np.fill_diagonal(conf_m, 0)\n",
    "\n",
    "plt.figure(figsize = (10,7))\n",
    "sn.heatmap(conf_m_sgd, annot=False)"
   ]
  },
  {
   "cell_type": "code",
   "execution_count": null,
   "metadata": {
    "id": "OwAQLPmnG1YI"
   },
   "outputs": [],
   "source": [
    "mlp_classifier.score(X_test_std, y_test_enc), mlp_classifier_sgd.score(X_test_std, y_test_enc)"
   ]
  },
  {
   "cell_type": "code",
   "execution_count": null,
   "metadata": {
    "id": "GVNlAG2rYcCZ"
   },
   "outputs": [],
   "source": []
  }
 ],
 "metadata": {
  "colab": {
   "name": "ex01_mlp.ipynb",
   "provenance": []
  },
  "kernelspec": {
   "display_name": "Python 3",
   "language": "python",
   "name": "python3"
  },
  "language_info": {
   "codemirror_mode": {
    "name": "ipython",
    "version": 3
   },
   "file_extension": ".py",
   "mimetype": "text/x-python",
   "name": "python",
   "nbconvert_exporter": "python",
   "pygments_lexer": "ipython3",
   "version": "3.7.5"
  }
 },
 "nbformat": 4,
 "nbformat_minor": 1
}
