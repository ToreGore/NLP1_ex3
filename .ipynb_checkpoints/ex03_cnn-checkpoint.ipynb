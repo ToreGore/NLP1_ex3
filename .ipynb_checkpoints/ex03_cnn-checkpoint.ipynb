{
 "cells": [
  {
   "cell_type": "markdown",
   "metadata": {},
   "source": [
    "### Generic usage imports"
   ]
  },
  {
   "cell_type": "code",
   "execution_count": 73,
   "metadata": {},
   "outputs": [],
   "source": [
    "import csv\n",
    "import functools as ft\n",
    "import math as m\n",
    "import re\n",
    "from io import StringIO\n",
    "\n",
    "import numpy as np\n",
    "import pandas as pd\n",
    "import requests"
   ]
  },
  {
   "cell_type": "markdown",
   "metadata": {},
   "source": [
    "### Graphical libraries imports"
   ]
  },
  {
   "cell_type": "code",
   "execution_count": 74,
   "metadata": {},
   "outputs": [],
   "source": [
    "import matplotlib as mp\n",
    "import matplotlib.pyplot as plt"
   ]
  },
  {
   "cell_type": "markdown",
   "metadata": {},
   "source": [
    "### NN oriented imports"
   ]
  },
  {
   "cell_type": "code",
   "execution_count": 80,
   "metadata": {},
   "outputs": [],
   "source": [
    "from keras.layers import Conv2D, Dense, Flatten, Embedding\n",
    "from keras.models import Sequential\n",
    "from sklearn.model_selection import train_test_split\n",
    "from tqdm.notebook import tqdm_notebook as tqdm"
   ]
  },
  {
   "cell_type": "code",
   "execution_count": 78,
   "metadata": {},
   "outputs": [],
   "source": [
    "tqdm.pandas()\n",
    "url_train_dev = 'https://docs.google.com/spreadsheets/d/e/2PACX-1vTOZ2rC82rhNsJduoyKYTsVeH6ukd7Bpxvxn_afOibn3R-eadZGXu82eCU9IRpl4CK_gefEGsYrA_oM/pub?gid=1863430984&single=true&output=tsv'\n",
    "url_test = 'https://docs.google.com/spreadsheets/d/e/2PACX-1vT-KNR9nuYatLkSbzSRgpz6Ku1n4TN4w6kKmFLkA6QJHTfQzmX0puBsLF7PAAQJQAxUpgruDd_RRgK7/pub?gid=417546901&single=true&output=tsv'"
   ]
  },
  {
   "cell_type": "markdown",
   "metadata": {},
   "source": [
    "## Classes and functions\n",
    "### Dataset download function\n",
    "Since to retrieve a dataset there is only one function employed, it's useless to build a whole class!"
   ]
  },
  {
   "cell_type": "code",
   "execution_count": 79,
   "metadata": {},
   "outputs": [],
   "source": [
    "def fetch(url, columns):\n",
    "    r = requests.get(url)\n",
    "    data = r.content.decode('utf8')\n",
    "    df = pd.read_csv(StringIO(data), sep='\\t')\n",
    "    df.columns = columns\n",
    "    return df"
   ]
  },
  {
   "cell_type": "markdown",
   "metadata": {},
   "source": [
    "### Data-cleaning class"
   ]
  },
  {
   "cell_type": "code",
   "execution_count": 23,
   "metadata": {},
   "outputs": [],
   "source": [
    "class Raccoon:\n",
    "    def __init__(self):\n",
    "        self.to_strip = re.compile(\n",
    "            \"[\"\n",
    "            u\"\\U0001F600-\\U0001F64F\"  # emoticons\n",
    "            u\"\\U0001F300-\\U0001F5FF\"  # symbols & pictographs\n",
    "            u\"\\U0001F680-\\U0001F6FF\"  # transport & map symbols\n",
    "            u\"\\U0001F1E0-\\U0001F1FF\"  # flags (iOS)\n",
    "            \"]+\",\n",
    "            flags=re.UNICODE)\n",
    "    def remove_nonalpha_chars(self, df, columns):\n",
    "        df_out = df.copy(deep=True)\n",
    "        for column in columns:\n",
    "            df_out[column] = df_out[column].progress_apply(lambda row: self.to_strip.sub(r'', row))\n",
    "        return df_out\n",
    "    def remove_links(self, df, columns):\n",
    "        df_out = df.copy(deep=True)\n",
    "        for column in columns:\n",
    "            df_out[column] = df_out[column].progress_apply(lambda row: re.sub(r'http\\S+', '', row))\n",
    "        return df_out\n",
    "    def lower_casing(self, df, columns):\n",
    "        df_out = df.copy(deep=True)\n",
    "        for column in columns:\n",
    "            df_out[column] = df_out[column].progress_apply(lambda row: row.lower())\n",
    "        return df_out \n",
    "    def remove_stopwords(self, df, columns):\n",
    "        df_out = df.copy(deep=True)\n",
    "        for column in columns:\n",
    "            df_out[column] = df_out[column].progress_apply(lambda x: ' '.join([word for word in (x.split()) if word not in (stop) and len(word) != 1]))\n",
    "        return df_out "
   ]
  },
  {
   "cell_type": "markdown",
   "metadata": {},
   "source": [
    "### Average and median tweet length function"
   ]
  },
  {
   "cell_type": "code",
   "execution_count": 46,
   "metadata": {},
   "outputs": [],
   "source": [
    "def AvgMedianLen(x):\n",
    "    df = {}\n",
    "    df['mean_character_count'] = x['tweet'].str.len().mean()\n",
    "    df['mean_word_count'] = x['tweet'].str.split().str.len().mean()\n",
    "    return(pd.Series(df, index=['mean_character_count', 'mean_word_count']))"
   ]
  },
  {
   "cell_type": "markdown",
   "metadata": {},
   "source": [
    "### Model building class"
   ]
  },
  {
   "cell_type": "code",
   "execution_count": 71,
   "metadata": {},
   "outputs": [],
   "source": [
    "class CNNModel:\n",
    "    def __init__(self, embeddings):\n",
    "        self.embedding = embeddings\n",
    "    def instantiate_model(self, kersize, activation):\n",
    "        model = model_type\n",
    "        #add model layers\n",
    "        model.add(Conv2D(64, kernel_size=kersize, activation=’relu’, input_shape=(28,28,1)))\n",
    "        model.add(Conv2D(32, kernel_size=kerzise, activation=’relu’))\n",
    "        model.add(Flatten())\n",
    "        model.add(Dense(10, activation=’softmax’))"
   ]
  },
  {
   "cell_type": "markdown",
   "metadata": {},
   "source": [
    "### Fetching data"
   ]
  },
  {
   "cell_type": "code",
   "execution_count": 24,
   "metadata": {},
   "outputs": [],
   "source": [
    "df_train = fetch(url_train_dev, [\"tweet\", \"label\"])\n",
    "df_test = fetch(url_test, [\"tweet\", \"label\"])"
   ]
  },
  {
   "cell_type": "code",
   "execution_count": 81,
   "metadata": {},
   "outputs": [
    {
     "data": {
      "text/html": [
       "<div>\n",
       "<style scoped>\n",
       "    .dataframe tbody tr th:only-of-type {\n",
       "        vertical-align: middle;\n",
       "    }\n",
       "\n",
       "    .dataframe tbody tr th {\n",
       "        vertical-align: top;\n",
       "    }\n",
       "\n",
       "    .dataframe thead th {\n",
       "        text-align: right;\n",
       "    }\n",
       "</style>\n",
       "<table border=\"1\" class=\"dataframe\">\n",
       "  <thead>\n",
       "    <tr style=\"text-align: right;\">\n",
       "      <th></th>\n",
       "      <th>tweet</th>\n",
       "      <th>label</th>\n",
       "    </tr>\n",
       "  </thead>\n",
       "  <tbody>\n",
       "    <tr>\n",
       "      <th>0</th>\n",
       "      <td>يا من أناديها ويخنقني البكاء  ويكاد صمت الدمع ...</td>\n",
       "      <td>ar</td>\n",
       "    </tr>\n",
       "    <tr>\n",
       "      <th>1</th>\n",
       "      <td>فيه فرق بين اهل غزة اللى مطحونين من ناحيتين وب...</td>\n",
       "      <td>ar</td>\n",
       "    </tr>\n",
       "    <tr>\n",
       "      <th>2</th>\n",
       "      <td>ﻋﻦ ﺍﻟﻠﺤﻈﺔ اﻟﺤﻠﻮﺓﺓ ﺍﻟﻠﻲ ﺑﺘﻐﻤﺾ ﻓﻴﻬﺎ ﻋﻴﻨﻴﻚ ﺑﺘﻔﻜﺮ ...</td>\n",
       "      <td>ar</td>\n",
       "    </tr>\n",
       "    <tr>\n",
       "      <th>3</th>\n",
       "      <td>يا ابو سلو عرفتني</td>\n",
       "      <td>ar</td>\n",
       "    </tr>\n",
       "    <tr>\n",
       "      <th>4</th>\n",
       "      <td>ب50 ريال أكفل معتمر في رمضان ، ولك بإذن الله م...</td>\n",
       "      <td>ar</td>\n",
       "    </tr>\n",
       "  </tbody>\n",
       "</table>\n",
       "</div>"
      ],
      "text/plain": [
       "                                               tweet label\n",
       "0  يا من أناديها ويخنقني البكاء  ويكاد صمت الدمع ...    ar\n",
       "1  فيه فرق بين اهل غزة اللى مطحونين من ناحيتين وب...    ar\n",
       "2  ﻋﻦ ﺍﻟﻠﺤﻈﺔ اﻟﺤﻠﻮﺓﺓ ﺍﻟﻠﻲ ﺑﺘﻐﻤﺾ ﻓﻴﻬﺎ ﻋﻴﻨﻴﻚ ﺑﺘﻔﻜﺮ ...    ar\n",
       "3                                  يا ابو سلو عرفتني    ar\n",
       "4  ب50 ريال أكفل معتمر في رمضان ، ولك بإذن الله م...    ar"
      ]
     },
     "execution_count": 81,
     "metadata": {},
     "output_type": "execute_result"
    }
   ],
   "source": [
    "df_train.head()"
   ]
  },
  {
   "cell_type": "markdown",
   "metadata": {},
   "source": [
    "### Chinese and japanese text cannot be tokenized by normal means\n",
    "Should employ other techniques like using jieba for chinese and other libraries"
   ]
  },
  {
   "cell_type": "code",
   "execution_count": 109,
   "metadata": {},
   "outputs": [],
   "source": [
    "import jieba"
   ]
  },
  {
   "cell_type": "code",
   "execution_count": 115,
   "metadata": {},
   "outputs": [
    {
     "data": {
      "text/plain": [
       "['@drm821', '明日の本番、どうなっているか、ツイートにご期待ください…！！']"
      ]
     },
     "execution_count": 115,
     "metadata": {},
     "output_type": "execute_result"
    }
   ],
   "source": [
    "#jieba.lcut((df_train.loc[df_train['label'] == \"zh-CN\"]).iloc[1][0])\n",
    "#set([i for i in df_train[\"label\"]])\n",
    "df_train.loc[df_train['label'] == \"ja\"].iloc[0][0].split()"
   ]
  },
  {
   "cell_type": "markdown",
   "metadata": {},
   "source": [
    "### Cleaning data"
   ]
  },
  {
   "cell_type": "code",
   "execution_count": 26,
   "metadata": {},
   "outputs": [],
   "source": [
    "rac = Raccoon()"
   ]
  },
  {
   "cell_type": "code",
   "execution_count": 34,
   "metadata": {},
   "outputs": [
    {
     "data": {
      "application/vnd.jupyter.widget-view+json": {
       "model_id": "3a6b1cd121a0418d9f194decfa6a9652",
       "version_major": 2,
       "version_minor": 0
      },
      "text/plain": [
       "HBox(children=(FloatProgress(value=0.0, max=52675.0), HTML(value='')))"
      ]
     },
     "metadata": {},
     "output_type": "display_data"
    },
    {
     "name": "stdout",
     "output_type": "stream",
     "text": [
      "\n"
     ]
    },
    {
     "data": {
      "application/vnd.jupyter.widget-view+json": {
       "model_id": "56f2d95ad6f04f7db909b4528f172f5d",
       "version_major": 2,
       "version_minor": 0
      },
      "text/plain": [
       "HBox(children=(FloatProgress(value=0.0, max=13279.0), HTML(value='')))"
      ]
     },
     "metadata": {},
     "output_type": "display_data"
    },
    {
     "name": "stdout",
     "output_type": "stream",
     "text": [
      "\n"
     ]
    }
   ],
   "source": [
    "train = (rac.remove_nonalpha_chars(df_train, [\"tweet\"]))#.head()\n",
    "test = (rac.remove_nonalpha_chars(df_test, [\"tweet\"]))#.head()"
   ]
  },
  {
   "cell_type": "code",
   "execution_count": 35,
   "metadata": {},
   "outputs": [
    {
     "data": {
      "application/vnd.jupyter.widget-view+json": {
       "model_id": "5c5b196377034ad791bc15033dcf425c",
       "version_major": 2,
       "version_minor": 0
      },
      "text/plain": [
       "HBox(children=(FloatProgress(value=0.0, max=52675.0), HTML(value='')))"
      ]
     },
     "metadata": {},
     "output_type": "display_data"
    },
    {
     "name": "stdout",
     "output_type": "stream",
     "text": [
      "\n"
     ]
    },
    {
     "data": {
      "application/vnd.jupyter.widget-view+json": {
       "model_id": "710fd2dc67c945a9abc35eeeab2ea905",
       "version_major": 2,
       "version_minor": 0
      },
      "text/plain": [
       "HBox(children=(FloatProgress(value=0.0, max=13279.0), HTML(value='')))"
      ]
     },
     "metadata": {},
     "output_type": "display_data"
    },
    {
     "name": "stdout",
     "output_type": "stream",
     "text": [
      "\n"
     ]
    }
   ],
   "source": [
    "train = rac.remove_links(train, [\"tweet\"])\n",
    "test = rac.remove_links(test, [\"tweet\"])"
   ]
  },
  {
   "cell_type": "code",
   "execution_count": 59,
   "metadata": {},
   "outputs": [
    {
     "data": {
      "application/vnd.jupyter.widget-view+json": {
       "model_id": "7ca9682cf5614670915389c4193c7302",
       "version_major": 2,
       "version_minor": 0
      },
      "text/plain": [
       "HBox(children=(FloatProgress(value=0.0, max=52675.0), HTML(value='')))"
      ]
     },
     "metadata": {},
     "output_type": "display_data"
    },
    {
     "name": "stdout",
     "output_type": "stream",
     "text": [
      "\n"
     ]
    },
    {
     "data": {
      "application/vnd.jupyter.widget-view+json": {
       "model_id": "7b7b5845d76d4227a55e3597bf5bb965",
       "version_major": 2,
       "version_minor": 0
      },
      "text/plain": [
       "HBox(children=(FloatProgress(value=0.0, max=13279.0), HTML(value='')))"
      ]
     },
     "metadata": {},
     "output_type": "display_data"
    },
    {
     "name": "stdout",
     "output_type": "stream",
     "text": [
      "\n"
     ]
    }
   ],
   "source": [
    "train = rac.lower_casing(train, [\"tweet\"])\n",
    "test = rac.lower_casing(test, [\"tweet\"])"
   ]
  },
  {
   "cell_type": "markdown",
   "metadata": {},
   "source": [
    "### Data analysis"
   ]
  },
  {
   "cell_type": "markdown",
   "metadata": {},
   "source": [
    "### Distribution analysis\n",
    "1) Mean <br>\n",
    "2) Median <br>\n",
    "3) Variance <br>\n",
    "4) Std. Deviation"
   ]
  },
  {
   "cell_type": "code",
   "execution_count": 60,
   "metadata": {},
   "outputs": [],
   "source": [
    "train_len = train.label.count()\n",
    "train_freq = list(train.label.value_counts().to_dict().items())"
   ]
  },
  {
   "cell_type": "code",
   "execution_count": 61,
   "metadata": {},
   "outputs": [],
   "source": [
    "mean = np.mean([x[1] for x in train_freq])\n",
    "median = np.median([x[1] for x in train_freq])\n",
    "variance = np.var([x[1] for x in train_freq])\n",
    "stdev = m.sqrt(variance)"
   ]
  },
  {
   "cell_type": "code",
   "execution_count": 62,
   "metadata": {},
   "outputs": [
    {
     "name": "stdout",
     "output_type": "stream",
     "text": [
      "Mean: 763.4057971014493\n",
      "Median: 11.0\n",
      "Variance: 7128528.849821464\n",
      "Stdev: 2669.9304953165847\n"
     ]
    }
   ],
   "source": [
    "print(\"Mean: {0}\\nMedian: {1}\".format(mean, median))\n",
    "print(\"Variance: {0}\\nStdev: {1}\".format(variance, stdev))"
   ]
  },
  {
   "cell_type": "markdown",
   "metadata": {},
   "source": [
    "**Observation**:\n",
    "\n",
    "There are languanges with very many tweets and some languages with only one tweet. The small sample size for some languages will make it difficult for the model to identify them well."
   ]
  },
  {
   "cell_type": "markdown",
   "metadata": {},
   "source": [
    "#### Average and median tweet length by language"
   ]
  },
  {
   "cell_type": "code",
   "execution_count": 63,
   "metadata": {},
   "outputs": [
    {
     "data": {
      "text/html": [
       "<div>\n",
       "<style scoped>\n",
       "    .dataframe tbody tr th:only-of-type {\n",
       "        vertical-align: middle;\n",
       "    }\n",
       "\n",
       "    .dataframe tbody tr th {\n",
       "        vertical-align: top;\n",
       "    }\n",
       "\n",
       "    .dataframe thead th {\n",
       "        text-align: right;\n",
       "    }\n",
       "</style>\n",
       "<table border=\"1\" class=\"dataframe\">\n",
       "  <thead>\n",
       "    <tr style=\"text-align: right;\">\n",
       "      <th></th>\n",
       "      <th>mean_character_count</th>\n",
       "      <th>mean_word_count</th>\n",
       "    </tr>\n",
       "    <tr>\n",
       "      <th>label</th>\n",
       "      <th></th>\n",
       "      <th></th>\n",
       "    </tr>\n",
       "  </thead>\n",
       "  <tbody>\n",
       "    <tr>\n",
       "      <th>ar</th>\n",
       "      <td>73.548886</td>\n",
       "      <td>12.737608</td>\n",
       "    </tr>\n",
       "    <tr>\n",
       "      <th>ar_LATN</th>\n",
       "      <td>31.166667</td>\n",
       "      <td>5.500000</td>\n",
       "    </tr>\n",
       "    <tr>\n",
       "      <th>az</th>\n",
       "      <td>88.000000</td>\n",
       "      <td>9.000000</td>\n",
       "    </tr>\n",
       "    <tr>\n",
       "      <th>bg</th>\n",
       "      <td>63.000000</td>\n",
       "      <td>10.000000</td>\n",
       "    </tr>\n",
       "    <tr>\n",
       "      <th>bn</th>\n",
       "      <td>87.000000</td>\n",
       "      <td>13.250000</td>\n",
       "    </tr>\n",
       "  </tbody>\n",
       "</table>\n",
       "</div>"
      ],
      "text/plain": [
       "         mean_character_count  mean_word_count\n",
       "label                                         \n",
       "ar                  73.548886        12.737608\n",
       "ar_LATN             31.166667         5.500000\n",
       "az                  88.000000         9.000000\n",
       "bg                  63.000000        10.000000\n",
       "bn                  87.000000        13.250000"
      ]
     },
     "execution_count": 63,
     "metadata": {},
     "output_type": "execute_result"
    }
   ],
   "source": [
    "df_train_dev_agg = train.groupby(by=\"label\").apply(AvgMedianLen)\n",
    "df_train_dev_agg.head()"
   ]
  },
  {
   "cell_type": "markdown",
   "metadata": {},
   "source": [
    "#### Scatter plot with average count and average word per tweet per language\n",
    "##### TODO: Evaluate if this part is to be kept\n",
    "\n",
    "Each point in the plot below represents a language label. <br>\n",
    "The points are laid out in 2D based on the average number of words and average number of characters per tweet. <br>\n",
    "It looks like, that one can discriminate between languages based on these metrics. <br>\n",
    "Otherwise, all points/languages would clump together. <br>\n",
    "Hence, I will add the average number of character and the average number of words as new features to the data set."
   ]
  },
  {
   "cell_type": "code",
   "execution_count": 64,
   "metadata": {},
   "outputs": [
    {
     "data": {
      "text/plain": [
       "Text(0.5, 1.0, 'Avg character count and avg word per tweet per language')"
      ]
     },
     "execution_count": 64,
     "metadata": {},
     "output_type": "execute_result"
    },
    {
     "data": {
      "image/png": "[encoded data removed]",
      "text/plain": [
       "<Figure size 1080x720 with 1 Axes>"
      ]
     },
     "metadata": {
      "needs_background": "light"
     },
     "output_type": "display_data"
    }
   ],
   "source": [
    "mp.pyplot.figure(figsize=(15,10))\n",
    "mp.pyplot.scatter(x= df_train_dev_agg['mean_character_count'], y= df_train_dev_agg['mean_word_count'])\n",
    "\n",
    "for i in range(len(df_train_dev_agg['mean_word_count'])):\n",
    "    t = (df_train_dev_agg.iloc[i]['mean_character_count'], df_train_dev_agg.iloc[i]['mean_word_count'])\n",
    "    mp.pyplot.annotate(df_train_dev_agg.index.values[i], t, (t[0]-0.5, t[1]+0.5))\n",
    "\n",
    "mp.pyplot.xlabel(\"Average character count\")\n",
    "mp.pyplot.ylabel(\"Average word count\")\n",
    "mp.pyplot.title(\"Avg character count and avg word per tweet per language\")"
   ]
  },
  {
   "cell_type": "markdown",
   "metadata": {},
   "source": [
    "#### Number of tweets per language"
   ]
  },
  {
   "cell_type": "code",
   "execution_count": 65,
   "metadata": {},
   "outputs": [
    {
     "data": {
      "text/html": [
       "<div>\n",
       "<style scoped>\n",
       "    .dataframe tbody tr th:only-of-type {\n",
       "        vertical-align: middle;\n",
       "    }\n",
       "\n",
       "    .dataframe tbody tr th {\n",
       "        vertical-align: top;\n",
       "    }\n",
       "\n",
       "    .dataframe thead th {\n",
       "        text-align: right;\n",
       "    }\n",
       "</style>\n",
       "<table border=\"1\" class=\"dataframe\">\n",
       "  <thead>\n",
       "    <tr style=\"text-align: right;\">\n",
       "      <th></th>\n",
       "      <th>tweet</th>\n",
       "    </tr>\n",
       "    <tr>\n",
       "      <th>label</th>\n",
       "      <th></th>\n",
       "    </tr>\n",
       "  </thead>\n",
       "  <tbody>\n",
       "    <tr>\n",
       "      <th>en</th>\n",
       "      <td>18508</td>\n",
       "    </tr>\n",
       "    <tr>\n",
       "      <th>ja</th>\n",
       "      <td>10421</td>\n",
       "    </tr>\n",
       "    <tr>\n",
       "      <th>es</th>\n",
       "      <td>5930</td>\n",
       "    </tr>\n",
       "    <tr>\n",
       "      <th>und</th>\n",
       "      <td>4537</td>\n",
       "    </tr>\n",
       "    <tr>\n",
       "      <th>id</th>\n",
       "      <td>3006</td>\n",
       "    </tr>\n",
       "    <tr>\n",
       "      <th>...</th>\n",
       "      <td>...</td>\n",
       "    </tr>\n",
       "    <tr>\n",
       "      <th>tn</th>\n",
       "      <td>1</td>\n",
       "    </tr>\n",
       "    <tr>\n",
       "      <th>dv</th>\n",
       "      <td>1</td>\n",
       "    </tr>\n",
       "    <tr>\n",
       "      <th>ta_LATN</th>\n",
       "      <td>1</td>\n",
       "    </tr>\n",
       "    <tr>\n",
       "      <th>si</th>\n",
       "      <td>1</td>\n",
       "    </tr>\n",
       "    <tr>\n",
       "      <th>ko_LATN</th>\n",
       "      <td>1</td>\n",
       "    </tr>\n",
       "  </tbody>\n",
       "</table>\n",
       "<p>69 rows × 1 columns</p>\n",
       "</div>"
      ],
      "text/plain": [
       "         tweet\n",
       "label         \n",
       "en       18508\n",
       "ja       10421\n",
       "es        5930\n",
       "und       4537\n",
       "id        3006\n",
       "...        ...\n",
       "tn           1\n",
       "dv           1\n",
       "ta_LATN      1\n",
       "si           1\n",
       "ko_LATN      1\n",
       "\n",
       "[69 rows x 1 columns]"
      ]
     },
     "execution_count": 65,
     "metadata": {},
     "output_type": "execute_result"
    }
   ],
   "source": [
    "train_grouped = train.groupby(by = [\"label\"]).count().sort_values(by= [\"tweet\"], ascending = False)\n",
    "unique_labels = train.label.unique()\n",
    "train_grouped"
   ]
  },
  {
   "cell_type": "markdown",
   "metadata": {},
   "source": [
    "**Observation:**\n",
    "\n",
    "It seems unlikely to learn anything from tweets with scarce language occurences, so it could be wise to reassign those tweets as \"und\" (undefined). <br>\n",
    "Since 10-fold cross validation is in use, all the languages with less than 10 tweets are labelled as \"und\". <br>"
   ]
  },
  {
   "cell_type": "code",
   "execution_count": 66,
   "metadata": {},
   "outputs": [],
   "source": [
    "dropped_lang = train_grouped[train_grouped[\"tweet\"] < 10].index\n",
    "\n",
    "for i in range(len(train)):\n",
    "    if train.iloc[i][\"label\"] in dropped_lang:\n",
    "        train.iloc[i][\"label\"] = \"und\""
   ]
  },
  {
   "cell_type": "code",
   "execution_count": 67,
   "metadata": {},
   "outputs": [
    {
     "data": {
      "text/plain": [
       "Index(['ta', 'sq', 'bn', 'ur', 'da', 'sw', 'hr', 'ne', 'bs', 'cs', 'gl', 'bg',\n",
       "       'et', 'km', 'hy', 'ht', 'sl', 'ps', 'az', 'xh', 'wo', 'ja_LATN', 'is',\n",
       "       'ha', 'ps_LATN', 'cy', 'tn', 'dv', 'ta_LATN', 'si', 'ko_LATN'],\n",
       "      dtype='object', name='label')"
      ]
     },
     "execution_count": 67,
     "metadata": {},
     "output_type": "execute_result"
    }
   ],
   "source": [
    "dropped_lang"
   ]
  },
  {
   "cell_type": "code",
   "execution_count": 68,
   "metadata": {},
   "outputs": [],
   "source": [
    "X_train = train['tweet']\n",
    "y_train = train['label']\n",
    "X_test = test['tweet']\n",
    "y_test = test['label']"
   ]
  },
  {
   "cell_type": "code",
   "execution_count": 69,
   "metadata": {},
   "outputs": [],
   "source": [
    "# change any y_test labels which are not in x_test to category \"<unknown>\"\n",
    "unknown_labels = np.setdiff1d(y_test, y_train)\n",
    "\n",
    "i = 0\n",
    "for l in y_test:\n",
    "    for ul in unknown_labels:\n",
    "        if l == ul:\n",
    "            y_test[i] = \"und\"\n",
    "    i += 1"
   ]
  },
  {
   "cell_type": "code",
   "execution_count": 70,
   "metadata": {},
   "outputs": [
    {
     "data": {
      "text/plain": [
       "0"
      ]
     },
     "execution_count": 70,
     "metadata": {},
     "output_type": "execute_result"
    }
   ],
   "source": [
    "len(np.setdiff1d(y_test, y_train))"
   ]
  },
  {
   "cell_type": "markdown",
   "metadata": {},
   "source": [
    "#### Usage of Validation data"
   ]
  },
  {
   "cell_type": "code",
   "execution_count": null,
   "metadata": {},
   "outputs": [],
   "source": []
  },
  {
   "cell_type": "markdown",
   "metadata": {},
   "source": [
    "# CNN IDEA\n",
    "## For each tweet, tokenize the words.\n",
    "## For each word, create a 50+ dimensional embedding\n",
    "## Compact into a matrix and treat said matrix as an \"image\" to convolute on"
   ]
  },
  {
   "cell_type": "code",
   "execution_count": null,
   "metadata": {},
   "outputs": [],
   "source": []
  },
  {
   "cell_type": "markdown",
   "metadata": {},
   "source": [
    "# Tokenization problem\n",
    "#### How do we tokenize chinese and japanese tweets?"
   ]
  }
 ],
 "metadata": {
  "kernelspec": {
   "display_name": "Python 3",
   "language": "python",
   "name": "python3"
  },
  "language_info": {
   "codemirror_mode": {
    "name": "ipython",
    "version": 3
   },
   "file_extension": ".py",
   "mimetype": "text/x-python",
   "name": "python",
   "nbconvert_exporter": "python",
   "pygments_lexer": "ipython3",
   "version": "3.7.5"
  }
 },
 "nbformat": 4,
 "nbformat_minor": 4
}
